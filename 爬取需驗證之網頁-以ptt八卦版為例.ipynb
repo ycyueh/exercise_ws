{
 "cells": [
  {
   "cell_type": "code",
   "execution_count": 1,
   "id": "ad92e992-a3f7-4750-ad69-aa0391b8d852",
   "metadata": {},
   "outputs": [],
   "source": [
    "# 匯入套件\n",
    "from bs4 import BeautifulSoup as bs\n",
    "import requests as req\n",
    "from pprint import pprint\n"
   ]
  },
  {
   "cell_type": "code",
   "execution_count": 8,
   "id": "d187336f-14cc-4340-aca6-d870b145b3d9",
   "metadata": {},
   "outputs": [
    {
     "name": "stdout",
     "output_type": "stream",
     "text": [
      "[問卦] 禿頭去喜宴如何穿搭才得體？O_o\n",
      "https://www.ptt.cc/bbs/Gossiping/M.1716357545.A.3DC.html\n",
      "[問卦] 吃炸雞不吃炸雞皮的心態是什麼\n",
      "https://www.ptt.cc/bbs/Gossiping/M.1716357603.A.992.html\n",
      "[新聞] 豬肉價格持續走揚 今年肉粽成本飆漲業者\n",
      "https://www.ptt.cc/bbs/Gossiping/M.1716357648.A.C49.html\n",
      "[問卦] 臉書帳號被停權的卦？\n",
      "https://www.ptt.cc/bbs/Gossiping/M.1716357679.A.8D6.html\n",
      "Re: [新聞] 3刀男行兇「仿鄭捷」選中捷原因：北捷人\n",
      "https://www.ptt.cc/bbs/Gossiping/M.1716357704.A.E10.html\n",
      "[爆卦] 微博熱搜第1：臺灣從來不是一個國家也永遠\n",
      "https://www.ptt.cc/bbs/Gossiping/M.1716357733.A.673.html\n",
      "Re: [問卦] Dcard說砍人的是GAY 討論水準真的...\n",
      "https://www.ptt.cc/bbs/Gossiping/M.1716357735.A.EA9.html\n",
      "[爆卦] 這位爆擊男是不是也該表揚一下\n",
      "https://www.ptt.cc/bbs/Gossiping/M.1716357778.A.53D.html\n",
      "[問卦] 中捷砍人的護專生怎那麼多劇本？\n",
      "https://www.ptt.cc/bbs/Gossiping/M.1716357808.A.7BF.html\n",
      "[問卦] 聽說台北巿有超大型聯誼活動\n",
      "https://www.ptt.cc/bbs/Gossiping/M.1716357815.A.700.html\n",
      "[新聞] 大學生「暈船」碩班學姐 聊到忘我環抱磨\n",
      "https://www.ptt.cc/bbs/Gossiping/M.1716357842.A.741.html\n",
      "[問卦] Dcard彩虹 終究還是變成躺0了= =\n",
      "https://www.ptt.cc/bbs/Gossiping/M.1716357863.A.577.html\n",
      "[問卦] 統一大飯店有多厲害\n",
      "https://www.ptt.cc/bbs/Gossiping/M.1716357901.A.E44.html\n",
      "Re: [問卦] 還是沒GET到煮菜的基本邏輯是啥耶...\n",
      "https://www.ptt.cc/bbs/Gossiping/M.1716357902.A.25F.html\n",
      "Re: [問卦] 刮腋毛變臭的原理？\n",
      "https://www.ptt.cc/bbs/Gossiping/M.1716357924.A.127.html\n",
      "[問卦] 為什麼要一直強調是高雄人上來犯案的\n",
      "https://www.ptt.cc/bbs/Gossiping/M.1716357940.A.51B.html\n",
      "[新聞] 高雄女晨泳溺水！疑遭野狗咬傷 一度失去\n",
      "https://www.ptt.cc/bbs/Gossiping/M.1716357941.A.2EA.html\n",
      "[問卦] 刺刀哥布靈會三審豬腳麵線嗎？\n",
      "https://www.ptt.cc/bbs/Gossiping/M.1716357971.A.8B6.html\n",
      "[問卦] 沒飲水機怎麼省水錢= =\n",
      "https://www.ptt.cc/bbs/Gossiping/M.1716358017.A.0C6.html\n",
      "Re: [新聞] 補充保費漲多少？ 醫改會：健保署應提精\n",
      "https://www.ptt.cc/bbs/Gossiping/M.1716358030.A.DD3.html\n",
      "[公告] 八卦板板規(2023.11.11)\n",
      "https://www.ptt.cc/bbs/Gossiping/M.1699632792.A.2CB.html\n",
      "[公告] ETtoday不實新聞禁發期間順延至6/1解禁\n",
      "https://www.ptt.cc/bbs/Gossiping/M.1714213819.A.2C0.html\n",
      "[公告] 五月沒有35日的置底閒聊區\n",
      "https://www.ptt.cc/bbs/Gossiping/M.1714572321.A.1A2.html\n"
     ]
    }
   ],
   "source": [
    "## PTT八卦版\n",
    "url = 'https://www.ptt.cc/bbs/Gossiping/index.html'\n",
    "##設定COOKIE\n",
    "###*******************\n",
    "#比對按下驗證前後的cookie差別，再設定cookies\n",
    "my_cookie = {\n",
    "    'over18':'1'\n",
    "}\n",
    "res = req.get(url,cookies = my_cookie)\n",
    "soup = bs(res.text,'lxml')\n",
    "\n",
    "##連結列表\n",
    "for a in soup.select('div.r-ent > div.title > a '):\n",
    "    print(a.get_text())\n",
    "    print('https://www.ptt.cc'+a['href'])"
   ]
  },
  {
   "cell_type": "code",
   "execution_count": null,
   "id": "7ca57618-98d2-42b4-9edc-1259cd84adcc",
   "metadata": {},
   "outputs": [],
   "source": []
  }
 ],
 "metadata": {
  "kernelspec": {
   "display_name": "python3@ex_ws",
   "language": "python",
   "name": "ex_ws"
  },
  "language_info": {
   "codemirror_mode": {
    "name": "ipython",
    "version": 3
   },
   "file_extension": ".py",
   "mimetype": "text/x-python",
   "name": "python",
   "nbconvert_exporter": "python",
   "pygments_lexer": "ipython3",
   "version": "3.10.14"
  }
 },
 "nbformat": 4,
 "nbformat_minor": 5
}
